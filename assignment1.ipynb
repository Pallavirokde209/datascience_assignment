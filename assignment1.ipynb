{
 "cells": [
  {
   "cell_type": "markdown",
   "id": "25be94d8-c83c-4c40-8c99-723809369519",
   "metadata": {},
   "source": [
    "# Q1 Create 2 lists from a given list where 1st list will contain all the odd numbers from the original list and the 2nd one will contain all the even numbers"
   ]
  },
  {
   "cell_type": "code",
   "execution_count": 6,
   "id": "501a0f01-6c6f-4040-af23-a46a5023faa5",
   "metadata": {},
   "outputs": [
    {
     "name": "stdout",
     "output_type": "stream",
     "text": [
      "Even number list [2, 4, 6]\n",
      "Odd number list [1, 3, 5]\n"
     ]
    }
   ],
   "source": [
    "L=[1,2,3,4,5,6]\n",
    "even=[]\n",
    "odd=[]\n",
    "for i in L:\n",
    "    if i%2==0:\n",
    "        even.append(i)\n",
    "    else:\n",
    "       odd.append(i)\n",
    "\n",
    "print(\"Even number list\",even)\n",
    "print(\"Odd number list\",odd)"
   ]
  },
  {
   "cell_type": "markdown",
   "id": "a3c8c8e8-a079-4f6d-8cf3-54df4c2ed2ce",
   "metadata": {},
   "source": [
    "# Q2 How to list as input from user "
   ]
  },
  {
   "cell_type": "code",
   "execution_count": 19,
   "id": "d6061f2f-71b6-4dd3-a550-11f6fb7ef102",
   "metadata": {},
   "outputs": [
    {
     "name": "stdin",
     "output_type": "stream",
     "text": [
      "Enter numbers: 1 3 4 2 6\n"
     ]
    },
    {
     "name": "stdout",
     "output_type": "stream",
     "text": [
      "[1, 3, 4, 2, 6]\n"
     ]
    }
   ],
   "source": [
    "a = list(int(x) for x in input(\"Enter numbers:\").split())\n",
    "print(a)"
   ]
  },
  {
   "cell_type": "markdown",
   "id": "71f060a1-f54d-450b-9703-56cc3dc9c782",
   "metadata": {},
   "source": [
    "# Q3 Write a program to merge 2 list without using the + operator"
   ]
  },
  {
   "cell_type": "code",
   "execution_count": 51,
   "id": "29363f72-a15b-4f5f-9974-9e5b0ce4f71f",
   "metadata": {},
   "outputs": [
    {
     "name": "stdout",
     "output_type": "stream",
     "text": [
      "[1, 2, 3, 4, 5, 6, 7, 8]\n"
     ]
    }
   ],
   "source": [
    "L1=[1,2,3,4]\n",
    "L2=[5,6,7,8]\n",
    "\n",
    "merge_list=[]\n",
    "for i in L1:\n",
    "    merge_list.append(i)\n",
    "for i in L2:\n",
    "        merge_list.append(i)\n",
    "\n",
    "print(merge_list)\n",
    "        \n",
    "    "
   ]
  },
  {
   "cell_type": "markdown",
   "id": "7b5d2b87-36a9-47bd-9726-180b0ea5e6e0",
   "metadata": {},
   "source": [
    "# Q4 Write a program to replace an item with a different item if found in the list"
   ]
  },
  {
   "cell_type": "code",
   "execution_count": 31,
   "id": "bda660a0-2acb-43f8-800e-e816cd83a9a1",
   "metadata": {},
   "outputs": [
    {
     "data": {
      "text/plain": [
       "[1, 2, 300, 4, 5, 300]"
      ]
     },
     "execution_count": 31,
     "metadata": {},
     "output_type": "execute_result"
    }
   ],
   "source": [
    "# replace 3 with 300\n",
    "L=[1,2,3,4,5,3] \n",
    "L[2]=300\n",
    "L[-1]=300\n",
    "L"
   ]
  },
  {
   "cell_type": "markdown",
   "id": "aad73294-9872-4017-8635-e04d0bda879e",
   "metadata": {},
   "source": [
    "# Q5 Write a program that can convert 2D list to 1D list"
   ]
  },
  {
   "cell_type": "code",
   "execution_count": 34,
   "id": "59f8c5b1-af2b-4009-9a8a-8a4399bc6025",
   "metadata": {},
   "outputs": [
    {
     "name": "stdout",
     "output_type": "stream",
     "text": [
      "2D [[1, 2, 3], [4, 5, 6], [7, 8, 9]]\n",
      "1D [1, 2, 3, 4, 5, 6, 7, 8, 9]\n"
     ]
    }
   ],
   "source": [
    "from functools import reduce\n",
    "L=[[1,2,3],[4,5,6],[7,8,9]]\n",
    "print(\"2D\",str(L))\n",
    "List=reduce(lambda x, y :x+ y,L)\n",
    "print(\"1D\",str(List))\n"
   ]
  },
  {
   "cell_type": "markdown",
   "id": "af024a9a-4015-4172-8486-4c64bfe42c0f",
   "metadata": {},
   "source": [
    "# Q6 Write a progam to remove duplicate items from a list"
   ]
  },
  {
   "cell_type": "code",
   "execution_count": 49,
   "id": "38a52206-c46c-49b0-bdf3-7061875c3c83",
   "metadata": {},
   "outputs": [
    {
     "name": "stdout",
     "output_type": "stream",
     "text": [
      "[1, 2, 3, 4, 5]\n"
     ]
    }
   ],
   "source": [
    "L=[1,2,1,2,3,4,5,3,4]\n",
    "print(list(set(L)))"
   ]
  },
  {
   "cell_type": "markdown",
   "id": "1e48f261-95b3-424b-8af5-0c8bbcd91ab2",
   "metadata": {},
   "source": [
    "# Q7 Write a progam to check if a list is in assending order or not"
   ]
  },
  {
   "cell_type": "code",
   "execution_count": 61,
   "id": "da5e45ec-f87b-4622-8d8d-3bda5a5e7b85",
   "metadata": {},
   "outputs": [
    {
     "name": "stdout",
     "output_type": "stream",
     "text": [
      "List in assending order\n"
     ]
    }
   ],
   "source": [
    "L=[1,2,3,4,5,6]\n",
    "ass=all(a <= b for a, b in zip(L,L[1:]))\n",
    "if ass:\n",
    "    print(\"List in assending order\")\n",
    "else:\n",
    "    print(\"List is not in assending order\")\n",
    "     "
   ]
  }
 ],
 "metadata": {
  "kernelspec": {
   "display_name": "Python 3 (ipykernel)",
   "language": "python",
   "name": "python3"
  },
  "language_info": {
   "codemirror_mode": {
    "name": "ipython",
    "version": 3
   },
   "file_extension": ".py",
   "mimetype": "text/x-python",
   "name": "python",
   "nbconvert_exporter": "python",
   "pygments_lexer": "ipython3",
   "version": "3.11.7"
  }
 },
 "nbformat": 4,
 "nbformat_minor": 5
}
