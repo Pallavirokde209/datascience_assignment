{
 "cells": [
  {
   "cell_type": "markdown",
   "id": "3440da71-9e4d-42b7-93a7-82e130c18d85",
   "metadata": {},
   "source": [
    "# Q1. Join Tuple if similar initial element"
   ]
  },
  {
   "cell_type": "code",
   "execution_count": 2,
   "id": "08a59ede-f406-4ae9-b20a-eb8be31a2adc",
   "metadata": {},
   "outputs": [
    {
     "name": "stdout",
     "output_type": "stream",
     "text": [
      "The original list is : [(5, 6), (5, 7), (6, 8), (6, 10), (7, 13)]\n",
      "The extracted elements : [(5, 6, 7), (6, 8, 10), (7, 13)]\n"
     ]
    }
   ],
   "source": [
    "test_list = [(5, 6), (5, 7), (6, 8), (6, 10), (7, 13)]\n",
    "print(\"The original list is : \" + str(test_list))\n",
    "res = []\n",
    "for sub in test_list:\n",
    "    if res and res[-1][0] == sub[0]:\n",
    "        res[-1].extend(sub[1:])\n",
    "    else:\n",
    "        res.append([ele for ele in sub])\n",
    "res = list(map(tuple, res))\n",
    " \n",
    "print(\"The extracted elements : \" + str(res))"
   ]
  },
  {
   "cell_type": "markdown",
   "id": "e8b1cec1-f3ad-4910-8846-cac8ebd99faa",
   "metadata": {},
   "source": [
    "# Q2 Multiply Adjacent elements(both side) and take sum of right and left side multiplication result."
   ]
  },
  {
   "cell_type": "code",
   "execution_count": 4,
   "id": "8fe167fd-41c7-4791-b24b-e012f389de04",
   "metadata": {},
   "outputs": [
    {
     "name": "stdout",
     "output_type": "stream",
     "text": [
      "The original tuple : (1, 5, 7, 8, 10)\n",
      "Resultant tuple after multiplication : (5, 35, 56, 80)\n"
     ]
    }
   ],
   "source": [
    "test_tup = (1, 5, 7, 8, 10) \n",
    " \n",
    "print(\"The original tuple : \" + str(test_tup)) \n",
    "res = tuple(i * j for i, j in zip(test_tup, test_tup[1:])) \n",
    " \n",
    "print(\"Resultant tuple after multiplication : \" + str(res)) "
   ]
  },
  {
   "cell_type": "markdown",
   "id": "a18683c4-7a57-411b-bc49-f1c79f296bd6",
   "metadata": {},
   "source": [
    "# Q3 check is tuples are same or not"
   ]
  },
  {
   "cell_type": "code",
   "execution_count": 6,
   "id": "dd407ad8-2e4e-4ed6-b9f3-c0d15dc02efe",
   "metadata": {},
   "outputs": [
    {
     "name": "stdout",
     "output_type": "stream",
     "text": [
      "t1 and t2 are not same\n"
     ]
    }
   ],
   "source": [
    "t1=(1,2,3,0)\n",
    "t2=(0,1,2,3)\n",
    "if(t1==t2):\n",
    "    print(\"t1 and t2 are same\")\n",
    "else:\n",
    "    print(\"t1 and t2 are not same\")\n",
    "    "
   ]
  },
  {
   "cell_type": "markdown",
   "id": "89c60034-5e29-4521-89f3-0d584fd2be37",
   "metadata": {},
   "source": [
    "# Q4 Count no of tuples, list and set from a list"
   ]
  },
  {
   "cell_type": "code",
   "execution_count": 12,
   "id": "7d642830-24a4-44af-bce3-812b8a49d0ea",
   "metadata": {},
   "outputs": [
    {
     "name": "stdout",
     "output_type": "stream",
     "text": [
      "List  [[{'bye', 'hi'}, {'Geeks', 'forGeeks'}, ('a', 'b'), ['hi', 'bye'], ['a', 'b']]]\n"
     ]
    }
   ],
   "source": [
    "list1=[{'hi', 'bye'},{'Geeks', 'forGeeks'},('a', 'b'),['hi', 'bye'],['a', 'b']]\n",
    "check_list=[{'hi', 'bye'},{'Geeks', 'forGeeks'},('a', 'b'),['hi', 'bye'],['a', 'b']]\n",
    "(list1) \n",
    "print(\"List \",[check_list])"
   ]
  },
  {
   "cell_type": "markdown",
   "id": "526e6a7d-484d-47d0-9211-0a36591050a4",
   "metadata": {},
   "source": [
    "# Q5 Shortlist students for a job role"
   ]
  },
  {
   "cell_type": "code",
   "execution_count": null,
   "id": "6ebe450f-20a0-448c-927c-e7f0f28d2a3a",
   "metadata": {},
   "outputs": [],
   "source": []
  },
  {
   "cell_type": "markdown",
   "id": "1c817780-4cca-4260-8cb9-816702307e8a",
   "metadata": {},
   "source": [
    "# Set"
   ]
  },
  {
   "cell_type": "markdown",
   "id": "22cde82b-3013-4158-a403-a34ff2d804be",
   "metadata": {},
   "source": [
    "# Q1 Write a program to find set of common elements in three lists using sets"
   ]
  },
  {
   "cell_type": "code",
   "execution_count": 34,
   "id": "d13ed3a1-7421-4612-811f-c363e8ca0fb2",
   "metadata": {},
   "outputs": [
    {
     "name": "stdout",
     "output_type": "stream",
     "text": [
      "[80, 20]\n"
     ]
    }
   ],
   "source": [
    "ar1 = [1, 5, 10, 20, 40, 80, 100]\n",
    "ar2 = [6, 7, 20, 80, 100]\n",
    "ar3 = [3, 4, 15, 20, 30, 70, 80, 120]\n",
    "\n",
    "arr1 = set(ar1)\n",
    "arr2 = set(ar2)\n",
    "arr3 = set(ar3)\n",
    "set1 = arr1.intersection(arr2)         \n",
    "result_set = set1.intersection(arr3)\n",
    "    \n",
    "final_list = list(result_set)\n",
    "print(final_list)\n",
    "\n",
    "\n",
    "    "
   ]
  },
  {
   "cell_type": "markdown",
   "id": "ed6d9068-f583-4412-a0d7-cc790e482c47",
   "metadata": {},
   "source": [
    "# Q2 Write a program to count unique number of vowels using sets in a given string. "
   ]
  },
  {
   "cell_type": "code",
   "execution_count": 27,
   "id": "0ae66c50-ce0a-46ba-a8d1-b362c29a316e",
   "metadata": {},
   "outputs": [
    {
     "name": "stdout",
     "output_type": "stream",
     "text": [
      "No of unique vowels- 6\n"
     ]
    }
   ],
   "source": [
    "# lowercase and uppercase vowels will be taken as different.\n",
    "str1 = \"hands-on data science mentorship progrAm with live classes at affordable fee only on CampusX\"\n",
    "vowels = \"o\"\n",
    " \n",
    "count = sum(str1.count(vowel) for vowel in vowels)\n",
    "print(\"No of unique vowels-\",count)"
   ]
  },
  {
   "cell_type": "markdown",
   "id": "32a0ac4d-0e66-4005-8bf8-d5d128c298be",
   "metadata": {},
   "source": [
    "# Q3 Write a program to check if a given string is binary string or not"
   ]
  },
  {
   "cell_type": "code",
   "execution_count": 40,
   "id": "1eeaa7e3-ecf0-4097-add0-858514219fbd",
   "metadata": {},
   "outputs": [
    {
     "name": "stdout",
     "output_type": "stream",
     "text": [
      "Yes\n",
      "Yes\n",
      "No\n"
     ]
    }
   ],
   "source": [
    "string = \"01010101010\"\n",
    "if(string.count('0')+string.count('1')==len(string)):\n",
    "    print(\"Yes\")\n",
    "else:\n",
    "    print(\"No\")\n",
    "string = \"1222211\"\n",
    "if(string.count('1')+string.count('2')==len(string)):\n",
    "    print(\"Yes\")\n",
    "else:\n",
    "    print(\"No\")\n",
    "    string = \"Campusx\"\n",
    "if(string.count('0')+string.count('1')==len(string)):\n",
    "    print(\"Yes\")\n",
    "else:\n",
    "    print(\"No\")"
   ]
  },
  {
   "cell_type": "markdown",
   "id": "df3bdba7-8f80-41e0-9c26-e20171b6e6cf",
   "metadata": {},
   "source": [
    "# Q4 Find the union of n arrays"
   ]
  },
  {
   "cell_type": "code",
   "execution_count": 89,
   "id": "24747b11-c3a8-4914-88a1-a7c8f97e90a8",
   "metadata": {},
   "outputs": [
    {
     "data": {
      "text/plain": [
       "{1, 2, 3, 4, 5, 6}"
      ]
     },
     "execution_count": 89,
     "metadata": {},
     "output_type": "execute_result"
    }
   ],
   "source": [
    "def combineAll(input):\n",
    "\n",
    "    result = set(input[0])\n",
    "    for array in input[1:]:\n",
    "        result.update(array)\n",
    "        return (result)\n",
    "    \n",
    "    input = [[1, 2, 2, 4, 3, 6],\n",
    "            [5, 1, 3, 4],\n",
    "            [9, 5, 7, 1],\n",
    "            [2, 4, 1, 3]]\n",
    "combineAll(input)\n"
   ]
  },
  {
   "cell_type": "markdown",
   "id": "536e5c87-5d4b-4412-bfcf-0dfe0a50e46c",
   "metadata": {},
   "source": [
    "# Q5 intersection of two lists. intersection of two list means we need to take all those elements which are common to both of the initial lists and store them into another list. using comprehension."
   ]
  },
  {
   "cell_type": "code",
   "execution_count": 104,
   "id": "ab094c0f-1349-4813-ad93-20fa106b182a",
   "metadata": {},
   "outputs": [
    {
     "data": {
      "text/plain": [
       "{4, 5, 9, 10}"
      ]
     },
     "execution_count": 104,
     "metadata": {},
     "output_type": "execute_result"
    }
   ],
   "source": [
    "\n",
    "lst1={15,9,10,56,23,78,5,4,9}\n",
    "lst2={9,4,5,36,47,26,10,45,87}\n",
    "\n",
    "lst1.intersection(lst2)\n"
   ]
  },
  {
   "cell_type": "code",
   "execution_count": 109,
   "id": "9d81d1e6-1bfe-4701-990e-db0b57f404b9",
   "metadata": {},
   "outputs": [
    {
     "data": {
      "text/plain": [
       "{9, 11, 26, 28}"
      ]
     },
     "execution_count": 109,
     "metadata": {},
     "output_type": "execute_result"
    }
   ],
   "source": [
    "lst1={4,9,1,17,11,26,28,54,69}\n",
    "lst2={9,9,74,21,45,11,63,28,26}\n",
    "\n",
    "lst1.intersection(lst2)\n"
   ]
  },
  {
   "cell_type": "markdown",
   "id": "050bf453-9903-4c0f-b67e-51cd8ffcee78",
   "metadata": {},
   "source": [
    "# Dictionary"
   ]
  },
  {
   "cell_type": "markdown",
   "id": "fa22bef1-bc0b-41af-9ee1-95429c9d97d3",
   "metadata": {},
   "source": [
    "# Q1 Key with maximum unique value"
   ]
  },
  {
   "cell_type": "code",
   "execution_count": 3,
   "id": "8589f30b-3823-4182-9559-0d9e688516ee",
   "metadata": {},
   "outputs": [
    {
     "data": {
      "text/plain": [
       "'Best'"
      ]
     },
     "execution_count": 3,
     "metadata": {},
     "output_type": "execute_result"
    }
   ],
   "source": [
    "\n",
    "test_dict={\"campusX\":[5,7,9,4,0],\"is\":[6,7,4,3,3],\"Best\":[9,9,6,5,5]}\n",
    "\n",
    "max(zip(test_dict.values(),test_dict.keys()))[1]\n"
   ]
  },
  {
   "cell_type": "code",
   "execution_count": 115,
   "id": "d266a617-829d-4de9-bb94-e1692d35601e",
   "metadata": {},
   "outputs": [
    {
     "data": {
      "text/plain": [
       "'Best'"
      ]
     },
     "execution_count": 115,
     "metadata": {},
     "output_type": "execute_result"
    }
   ],
   "source": [
    "test_dict={\"campusX\":[5,7,7,7,7],\"is\":[6,7,7,7],\"Best\":[9,9,6,5,5]}\n",
    "max(zip(test_dict.values(),test_dict.keys()))[1]"
   ]
  },
  {
   "cell_type": "markdown",
   "id": "b94d24d8-1a6d-4a61-a545-bf454f7725ff",
   "metadata": {},
   "source": [
    "# Q2 Replace words from dictionary. Given string , replace it's words from lookup dictionary"
   ]
  },
  {
   "cell_type": "raw",
   "id": "f015cab5-c403-4ff4-b56e-5aef9b4a58ee",
   "metadata": {},
   "source": []
  },
  {
   "cell_type": "code",
   "execution_count": 1,
   "id": "cf734186-5740-48b3-8508-fca4de2a3551",
   "metadata": {},
   "outputs": [
    {
     "name": "stdout",
     "output_type": "stream",
     "text": [
      "The original string is : CampusX best for DS students.\n",
      "Replaced Strings :CampusX is the best channel for Data-Science students.\n"
     ]
    }
   ],
   "source": [
    "test_str = 'CampusX best for DS students.'\n",
    " \n",
    "print(\"The original string is : \" + str(test_str))\n",
    " \n",
    "repl_dict = {\"best\" : \"is the best channel\", \"DS\" : \"Data-Science\"}\n",
    " \n",
    "res = \" \".join(repl_dict.get(ele, ele) for ele in test_str.split())\n",
    "print(\"Replaced Strings :\"+str(res))"
   ]
  },
  {
   "cell_type": "code",
   "execution_count": 2,
   "id": "0390a675-3f1f-4fc3-9725-a896dfbcbafe",
   "metadata": {},
   "outputs": [
    {
     "name": "stdout",
     "output_type": "stream",
     "text": [
      "The original string is : CampusX best for DS students.\n",
      "Replaced Strings :CampusX best for DS students.\n"
     ]
    }
   ],
   "source": [
    "test_str = 'CampusX best for DS students.'\n",
    " \n",
    "print(\"The original string is : \" + str(test_str))\n",
    " \n",
    "repl_dict = {\"good\" : \"is the best channel\", \"ds\" : \"Data-Science\"}\n",
    " \n",
    "res = \" \".join(repl_dict.get(ele, ele) for ele in test_str.split())\n",
    "print(\"Replaced Strings :\"+str(res))"
   ]
  },
  {
   "cell_type": "markdown",
   "id": "6d8dd93f-0be3-4e14-814a-e0cd5f71aa90",
   "metadata": {},
   "source": [
    "# Q3 Convert list to list of dictionaries. given list values and keys list, convert these values to key  value pair in from of list of dictionaries. "
   ]
  },
  {
   "cell_type": "code",
   "execution_count": 10,
   "id": "4d93f1c4-aa60-47a6-9791-3ce34b8a9eb9",
   "metadata": {},
   "outputs": [
    {
     "name": "stdout",
     "output_type": "stream",
     "text": [
      "[{'name': 'DataScience', 'id': 3}, {'name': 'is', 'id': 8}]\n"
     ]
    }
   ],
   "source": [
    "test_list=[\"DataScience\", 3,\"is\",8]\n",
    "key_list=[\"name\",\"id\"]\n",
    "res = []\n",
    "for pair in zip(test_list[::2], test_list[1::2]):\n",
    "    res.append({key_list[0]: pair[0], key_list[1]: pair[1]})\n",
    "print(\"\"+str(res))"
   ]
  },
  {
   "cell_type": "code",
   "execution_count": 11,
   "id": "952081d0-3ef0-4514-9ac0-d0dde862f8f0",
   "metadata": {},
   "outputs": [
    {
     "name": "stdout",
     "output_type": "stream",
     "text": [
      "[{'name': 'CampusX', 'id': 10}]\n"
     ]
    }
   ],
   "source": [
    "test_list=[\"CampusX\",10]\n",
    "key_list=[\"name\",\"id\"]\n",
    "res = []\n",
    "for pair in zip(test_list[::2], test_list[1::2]):\n",
    "    res.append({key_list[0]: pair[0], key_list[1]: pair[1]})\n",
    "print(\"\"+str(res))"
   ]
  },
  {
   "cell_type": "markdown",
   "id": "6ff55c5b-3acb-43f2-bd30-b5079033ff9f",
   "metadata": {},
   "source": [
    "# Q4 Convert a list of Tuples into Dictionary."
   ]
  },
  {
   "cell_type": "code",
   "execution_count": 16,
   "id": "f6aa9b84-4ff7-4105-bf58-3044e9a94105",
   "metadata": {},
   "outputs": [
    {
     "name": "stdout",
     "output_type": "stream",
     "text": [
      "{'akash': [10], 'gaurav': [12], 'anand': [14], 'suraj': [20], 'akhil': [25], 'ashish': [30]}\n"
     ]
    }
   ],
   "source": [
    "def Convert(tup, di):\n",
    "    for a, b in tup:\n",
    "        di.setdefault(a, []).append(b)\n",
    "    return di\n",
    " \n",
    "tuple = [(\"akash\", 10), (\"gaurav\", 12), (\"anand\", 14),\n",
    "        (\"suraj\", 20), (\"akhil\", 25), (\"ashish\", 30)]\n",
    "dictionary = {}\n",
    "print(Convert(tuple, dictionary))"
   ]
  },
  {
   "cell_type": "code",
   "execution_count": 14,
   "id": "b6614e7a-f98a-454c-ad47-f5007f6f0086",
   "metadata": {},
   "outputs": [
    {
     "name": "stdout",
     "output_type": "stream",
     "text": [
      "{'A': [1], 'B': [2], 'C': [3]}\n"
     ]
    }
   ],
   "source": [
    "def convert(tup,di):\n",
    "    for a, b in tup:\n",
    "        di.setdefault(a,[]).append(b)\n",
    "        return di\n",
    "\n",
    "tuple = [('A',1),('B',2),('C',3)]\n",
    "dictionary = {}\n",
    "print(Convert(tuple, dictionary))\n",
    "        "
   ]
  },
  {
   "cell_type": "markdown",
   "id": "f7eb36e6-59ab-4121-9035-baa5e0e063f5",
   "metadata": {},
   "source": [
    "# Q5 Sort Dictionary key and values list."
   ]
  },
  {
   "cell_type": "code",
   "execution_count": 28,
   "id": "5fbb3421-3bda-4afc-bf5d-9ee4d1db6e57",
   "metadata": {},
   "outputs": [
    {
     "name": "stdout",
     "output_type": "stream",
     "text": [
      "{'a': [4, 19], 'b': [10, 12], 'c': [3]}\n"
     ]
    }
   ],
   "source": [
    "dict={'c':[3],'b':[12,10],'a':[19,4]}\n",
    "res = {key : sorted(dict[key]) for key in sorted(dict)}\n",
    " \n",
    " \n",
    "print(\"\"+  str(res))"
   ]
  },
  {
   "cell_type": "code",
   "execution_count": 30,
   "id": "cf3f1218-4d97-4e94-bb5d-598b0bf18c05",
   "metadata": {},
   "outputs": [
    {
     "name": "stdout",
     "output_type": "stream",
     "text": [
      "{'c': [3, 10, 34]}\n"
     ]
    }
   ],
   "source": [
    "dict1={'c':[3,10,34]}\n",
    "res = {key : sorted(dict1[key]) for key in sorted(dict1)}\n",
    " \n",
    " \n",
    "print(\"\"+  str(res))"
   ]
  }
 ],
 "metadata": {
  "kernelspec": {
   "display_name": "Python 3 (ipykernel)",
   "language": "python",
   "name": "python3"
  },
  "language_info": {
   "codemirror_mode": {
    "name": "ipython",
    "version": 3
   },
   "file_extension": ".py",
   "mimetype": "text/x-python",
   "name": "python",
   "nbconvert_exporter": "python",
   "pygments_lexer": "ipython3",
   "version": "3.11.7"
  }
 },
 "nbformat": 4,
 "nbformat_minor": 5
}
